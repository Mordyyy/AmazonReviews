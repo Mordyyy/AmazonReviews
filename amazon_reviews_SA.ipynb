{
 "cells": [
  {
   "cell_type": "markdown",
   "metadata": {},
   "source": [
    "# Amazon Reviews Sentiment Analysis"
   ]
  },
  {
   "cell_type": "markdown",
   "metadata": {},
   "source": [
    "Data შეიცავს 3 600 000 მონაცემს. რივიუების უდიდესი რაოდენობა არის ინგლისური. ასევე ვხვდებით ესპანურ რივიუებსაც მაგრამ აღსანიშნავია, რომ არაინგლისურენოვანი რივიუები ძალიან ცოტაა.\n",
    "\n",
    "თუ ჩვენ გვინდა, რომ არაინგლისური რივიუებიც გავითვალისწინოთ, გვაქვს რამდენიმე შესაძლო მიდგომა. პირველი არის, რომ რა იმბედინგის მომცემსაც გამოვიყენებთ, იყოს multilingual, რათა ერთი მოდელით შევძლო ყველა ენის მოცვა. მეორე არის, translator, რომელიც ყველა ენას გადაიყვანს ინგლისურზე. \n",
    "\n",
    "პირველ რიგში, ვთქვათ, რომ multilingual მოდელების გამოყენება ცუდი იდეაა, რადგან მათი იმბედინგები ინგლისური ენისთვის ისეთი კარგი არაა როგორიც monolongual-ის. რადგან სამიზნე მაინც ინგლისური ენაა, ეს ვარიანტი გამოვრიცხე. \n",
    "ასევე აღსანიშნავია, რომ ჩვენთვის ტრენინგი უფრო მნიშვნელოვანია და გვინდა, რომ ტრენინგის დროს გვქონდეს რაც შეიძლება სუფთა მონაცემები, ამიტომაც არაინგლისურენოვანების ნათარგმნებს არ გამოვიყენებთ ტრენინგის დროს, მაგრამ ინფერენსის დროს თუ შეგვხვდა, გადავთარგმნით და შევუშვებთ ჩვენს მოდელში. "
   ]
  },
  {
   "cell_type": "markdown",
   "metadata": {},
   "source": [
    "ამოცანის ამოხსნსას დავიწყებ სტანდარტულად. არ გამოვიყენებ პირდაპირ BERT-ს და ჯერ ვცდი შედარებით მარტივი მოდელების აგებას, რომელიც მექნება ბეისლაინად. პირველად დავიწყებ word2vec-ის extension-ით fasttext-ით. data, რომელიც მოცემული გვაქვს, პირდაპირ გამზადებულია fasttext-ითვის."
   ]
  },
  {
   "cell_type": "markdown",
   "metadata": {},
   "source": [
    "რა მოდელიც არ უნდა გამოვიყენოთ, ნებისმიერისთვის უმნიშვნელოვანესი როლი ექნება იმას, თუ როგორი data მიეწოდება კლასიფიკატორს, ამიტომაც საჭიროა ვიზრუნოთ მის გასუფთავებაზე. Data-ს preprocessing-ს გავაკეთებ შემდეგნაირად:\n",
    "\n",
    "1. lowercase-ში გადაყვანა\n",
    "2. ზედმეტი whitespace-ების წაშლა\n",
    "3. აპოსტროფის მოშორება: i'd -> i would, i'll -> i will .....\n",
    "4. ურლ-ების წაშლა, რომლებიც საკმაოდ გვხვდება\n",
    "5. ემოჯების წაშლა\n",
    "6. პუნქტუაციებისა და რიცხვების/ციფრების წაშლა\n",
    "7. დუბლირებული ასოების წაშლა, თუ ისინი ზედიზედ 3 ჯერ გვხვდება: happyyyyy -> happy, Helloooooo -> hello\n",
    "8. სპელ ჩეკერის გადატარება\n",
    "9. word level მოდელის შემთხვევაში stop-word ებს წავშლი, რადგან შეიძლება მონაცემებში bias შემოიტანონ. sentence level მოდელების შემთხვევაში, მაგალითად როგორიცაა ბერტი, მაგ შემთხვევაში არ წავშლით, რადგან წინადადებების სტრუქტურა დაგვერღვევა.სტოპ ვორდების წაშლა ძალიან საფრთხილოა, მათი სია სპეციალურად შევადგინე რადგან ცხადია ყველას წაშლა ავნებდა კონტექსტს, მაგალითად თუ nltk-ს სტოპვორდებს გამოვიყენებდით მივიღებდით შედეგს: i did not like product -> like product, რაც ცხადია უარყოფითად აისახებოდა ყველაფერზე. სიაც, რომელიც მე შევადგინე, არ არის ძალიან დიდი რისერჩის შედეგად შედგენილი, მაგრამ რაც მთავარია კონტექსტს არ ავნებს.\n",
    "10. ზოგადად, ლემატიზაცია და სტემინგი ხშირად აუმჯობეს ხოლმე პერფორმანსს word2vec-ის შემთხვევაში, რადგან შეიძლება wod2vecის ლექსიკონში იყოს სიტყვა cat და არ იყოს cats. cats-ისთვის out of vocab ვექტორის მინიჭებით ტყუილად ვკარგავთ ინფორმაციას და ხშირად უმჯობესია დავიყვანოთ ფუძეზე, რომელიც დიდი ალბათობით იქნება word2vec ის ლექსიკონში. fasttext ის შემთხვევაში, ამის პრობლემა ნაკლებად გვაქვს, ვინაიდან მასში გვხვდება ngram ული მოდელი, რომელიც ძალიან კარგად იჭერს სიტყვებს შორის ფონეტიკურ მსგავსებებს. შესაბამისად, ერთი სიტყვის გაგრძელებული ვარიანტი მაინც ვექტორულად ახლოს იქნება საწყის სიტყვასთან. თან ლემატიზაციამ შეიძლება ძალიან ავნოს სენტიმენტ ანალიზსს, ვინაიდან შეიძლება ფუძეზე დაყვანით დავკარგოთ სიტყვის სენტიმენტური კონტექსტი (close-closeness). "
   ]
  },
  {
   "cell_type": "code",
   "execution_count": 5,
   "metadata": {},
   "outputs": [
    {
     "name": "stderr",
     "output_type": "stream",
     "text": [
      "Using Georgia server backend.\n"
     ]
    }
   ],
   "source": [
    "import pandas\n",
    "import numpy\n",
    "import gcld3\n",
    "from pycountry import languages\n",
    "import transformers\n",
    "from transformers import BertTokenizer, TFBertForSequenceClassification\n",
    "from transformers import InputExample, InputFeatures\n",
    "import translators as ts\n",
    "from autocorrect import Speller\n",
    "import re\n",
    "import fasttext\n",
    "import pandas as pd"
   ]
  },
  {
   "cell_type": "code",
   "execution_count": 2,
   "metadata": {},
   "outputs": [],
   "source": [
    "# returns text's language\n",
    "# speed or FastText would be better\n",
    "\n",
    "def detect_language(text):\n",
    "    detector = gcld3.NNetLanguageIdentifier(min_num_bytes=0, \n",
    "                                        max_num_bytes=100000)\n",
    "    result = detector.FindLanguage(text=text)\n",
    "    if languages.get(alpha_2=result.language) == None:\n",
    "        return None\n",
    "    return languages.get(alpha_2=result.language).name"
   ]
  },
  {
   "cell_type": "code",
   "execution_count": 3,
   "metadata": {},
   "outputs": [],
   "source": [
    "## translates to English\n",
    "\n",
    "def translate(text):\n",
    "    return ts.google(text, if_use_cn_host=True)"
   ]
  },
  {
   "cell_type": "code",
   "execution_count": 4,
   "metadata": {},
   "outputs": [],
   "source": [
    "## removes urls\n",
    "\n",
    "def remove_url(text):\n",
    "    text = re.sub(r'https?:\\/\\/(www\\.)?[-a-zA-Z0–9@:%._\\+~#=]{2,256}\\.[a-z]{2,6}\\b([-a-zA-Z0–9@:%_\\+.~#?&//=]*)', '', \n",
    "                   text, flags=re.MULTILINE)  # to remove links that start with HTTP/HTTPS in the tweet\n",
    "    text = re.sub(r'[-a-zA-Z0–9@:%._\\+~#=]{2,256}\\.[a-z]{2,6}\\b([-a-zA-Z0–9@:%_\\+.~#?&//=]*)', '', \n",
    "                   text, flags=re.MULTILINE) # to remove other url links\n",
    "    return text"
   ]
  },
  {
   "cell_type": "code",
   "execution_count": 5,
   "metadata": {},
   "outputs": [],
   "source": [
    "## removes emoji\n",
    "\n",
    "def remove_emoji(text):\n",
    "    emoji_pattern = re.compile(\"[\"\n",
    "                           u\"\\U0001F600-\\U0001F64F\"  # emoticons\n",
    "                           u\"\\U0001F300-\\U0001F5FF\"  # symbols & pictographs\n",
    "                           u\"\\U0001F680-\\U0001F6FF\"  # transport & map symbols\n",
    "                           u\"\\U0001F1E0-\\U0001F1FF\"  # flags \n",
    "                           u\"\\U00002702-\\U000027B0\"\n",
    "                           u\"\\U000024C2-\\U0001F251\"\n",
    "                           \"]+\", flags=re.UNICODE)\n",
    "    return emoji_pattern.sub(r'', text)"
   ]
  },
  {
   "cell_type": "code",
   "execution_count": 6,
   "metadata": {},
   "outputs": [],
   "source": [
    "## removes numbers and punctuations\n",
    "\n",
    "def remove_nums_punctuations(text): \n",
    "    punctuations = '''!()-![]{};:+'\"\\,<>./?@#$%^&*_~'''\n",
    "    nums = '0123456789'\n",
    "    return ''.join([i for i in text if i not in punctuations and i not in nums])"
   ]
  },
  {
   "cell_type": "code",
   "execution_count": 7,
   "metadata": {},
   "outputs": [],
   "source": [
    "## converting apostrophe/short words in the better form\n",
    "\n",
    "def decontracted(phrase):\n",
    "    # specific\n",
    "    phrase = re.sub(r\"won\\'t\", \"will not\", phrase)\n",
    "    phrase = re.sub(r\"can\\'t\", \"can not\", phrase)\n",
    "\n",
    "    # general\n",
    "    phrase = re.sub(r\"n\\'t\", \" not\", phrase)\n",
    "    phrase = re.sub(r\"\\'re\", \" are\", phrase)\n",
    "    phrase = re.sub(r\"\\'s\", \" is\", phrase)\n",
    "    phrase = re.sub(r\"\\'d\", \" would\", phrase)\n",
    "    phrase = re.sub(r\"\\'ll\", \" will\", phrase)\n",
    "    phrase = re.sub(r\"\\'t\", \" not\", phrase)\n",
    "    phrase = re.sub(r\"\\'ve\", \" have\", phrase)\n",
    "    phrase = re.sub(r\"\\'m\", \" am\", phrase)\n",
    "    return phrase"
   ]
  },
  {
   "cell_type": "code",
   "execution_count": 8,
   "metadata": {},
   "outputs": [],
   "source": [
    "## removes extra white spaces\n",
    "\n",
    "def remove_extra_whitespaces(text):\n",
    "    return re.sub(' {2,}', ' ', text)"
   ]
  },
  {
   "cell_type": "code",
   "execution_count": 9,
   "metadata": {},
   "outputs": [],
   "source": [
    "## removes specific stop words\n",
    "\n",
    "def remove_stop_words(text):\n",
    "    stop_words=['in','of','at','a','the, i, them, you, their, myself, our, ours, me, he, him, it, ours']\n",
    "    tokens = text.split(' ')\n",
    "    return ' '.join([word for word in tokens if word not in stop_words])"
   ]
  },
  {
   "cell_type": "code",
   "execution_count": 10,
   "metadata": {},
   "outputs": [],
   "source": [
    "## spell checker\n",
    "\n",
    "def spell_check(text):\n",
    "    spell = Speller('en')\n",
    "    s = ' '.join([spell(w) for w in text.split(' ')])\n",
    "    return s"
   ]
  },
  {
   "cell_type": "code",
   "execution_count": 28,
   "metadata": {},
   "outputs": [],
   "source": [
    "## removes duplicated chars. happyyyyyy -> hapy -> spell checker -> happy\n",
    "\n",
    "def remove_duplicates(text):\n",
    "    return re.compile(r'(.)\\1{2,}', re.IGNORECASE).sub(r'\\1', text)"
   ]
  },
  {
   "cell_type": "code",
   "execution_count": 11,
   "metadata": {},
   "outputs": [],
   "source": [
    "## preprocessing\n",
    "\n",
    "def preprocess(text):\n",
    "    text = text.lower()\n",
    "    text = remove_extra_whitespaces(text)\n",
    "    text = decontracted(text)\n",
    "    text = remove_url(text)\n",
    "    text = remove_emoji(text)\n",
    "    text = remove_nums_punctuations(text)\n",
    "    text = remove_duplicates(text)\n",
    "    text = spell_check(text)\n",
    "    text = remove_stop_words(text)\n",
    "    return text"
   ]
  },
  {
   "cell_type": "code",
   "execution_count": 2,
   "metadata": {},
   "outputs": [],
   "source": [
    "TRAIN_PATH = '/Users/test/Downloads/archive/train.ft.txt'\n",
    "TEST_PATH = '/Users/test/Downloads/archive/test.ft.txt'\n",
    "NEW_TRAIN_PATH = '/Users/test/Downloads/archive/new_train.ft.txt'\n",
    "NEW_TEST_PATH = '/Users/test/Downloads/archive/new_test.ft.txt'"
   ]
  },
  {
   "cell_type": "markdown",
   "metadata": {},
   "source": [
    "# Data Preprocessing"
   ]
  },
  {
   "cell_type": "markdown",
   "metadata": {},
   "source": [
    "პრეპროცესინს დიდი ხანი ჭირდება, ამიტომ 3 600 000-ის მაგივრად, 36 000-ზე ვატრენინგებდი და მასზე ვნახულობდი შედეგებს"
   ]
  },
  {
   "cell_type": "code",
   "execution_count": 13,
   "metadata": {
    "collapsed": true,
    "jupyter": {
     "outputs_hidden": true
    }
   },
   "outputs": [
    {
     "name": "stdout",
     "output_type": "stream",
     "text": [
      "0.0%\n",
      "1.0%\n",
      "2.0%\n",
      "3.0%\n",
      "4.0%\n",
      "5.0%\n",
      "6.0%\n",
      "7.0%\n",
      "8.0%\n",
      "9.0%\n",
      "10.0%\n",
      "11.0%\n",
      "12.0%\n",
      "13.0%\n",
      "14.0%\n",
      "15.0%\n",
      "16.0%\n",
      "17.0%\n",
      "18.0%\n",
      "19.0%\n",
      "20.0%\n",
      "21.0%\n",
      "22.0%\n",
      "23.0%\n",
      "24.0%\n",
      "25.0%\n",
      "26.0%\n",
      "27.0%\n",
      "28.0%\n",
      "29.0%\n",
      "30.0%\n",
      "31.0%\n",
      "32.0%\n",
      "33.0%\n",
      "34.0%\n",
      "35.0%\n",
      "36.0%\n",
      "37.0%\n",
      "38.0%\n",
      "39.0%\n",
      "40.0%\n",
      "41.0%\n",
      "42.0%\n",
      "43.0%\n",
      "44.0%\n",
      "45.0%\n",
      "46.0%\n",
      "47.0%\n",
      "48.0%\n",
      "49.0%\n",
      "50.0%\n",
      "51.0%\n",
      "52.0%\n",
      "53.0%\n",
      "54.0%\n",
      "55.0%\n",
      "56.0%\n",
      "57.0%\n",
      "58.0%\n",
      "59.0%\n",
      "60.0%\n",
      "61.0%\n",
      "62.0%\n",
      "63.0%\n",
      "64.0%\n",
      "65.0%\n",
      "66.0%\n",
      "67.0%\n",
      "68.0%\n",
      "69.0%\n",
      "70.0%\n",
      "71.0%\n",
      "72.0%\n",
      "73.0%\n",
      "74.0%\n",
      "75.0%\n",
      "76.0%\n",
      "77.0%\n",
      "78.0%\n",
      "79.0%\n",
      "80.0%\n",
      "81.0%\n",
      "82.0%\n",
      "83.0%\n",
      "84.0%\n",
      "85.0%\n",
      "86.0%\n",
      "87.0%\n",
      "88.0%\n",
      "89.0%\n",
      "90.0%\n",
      "91.0%\n",
      "92.0%\n",
      "93.0%\n",
      "94.0%\n",
      "95.0%\n",
      "96.0%\n",
      "97.0%\n",
      "98.0%\n",
      "99.0%\n"
     ]
    }
   ],
   "source": [
    "train_txt = open(TRAIN_PATH, \"r\")\n",
    "new_train_txt = open(NEW_TRAIN_PATH, \"w\")\n",
    "p = 0.0\n",
    "cnt = 0.0\n",
    "for line in train_txt:\n",
    "    if detect_language(line[10:]) == 'English':\n",
    "        preprocessed = line[:10] + preprocess(line[10:])\n",
    "        new_train_txt.write(preprocessed)\n",
    "#     if cnt == 36000:\n",
    "#         break\n",
    "#     if cnt == 360*p:\n",
    "#         print(str(p) + '%')\n",
    "#         p+=1\n",
    "#     cnt+=1\n",
    "train_txt.close()\n",
    "new_train_txt.close()"
   ]
  },
  {
   "cell_type": "code",
   "execution_count": 16,
   "metadata": {
    "jupyter": {
     "source_hidden": true
    }
   },
   "outputs": [],
   "source": [
    "test_txt = open(TEST_PATH, \"r\")\n",
    "new_test_txt = open(NEW_TEST_PATH, \"w\")\n",
    "cnt = 0\n",
    "for line in test_txt:\n",
    "#     if cnt == 5000:\n",
    "#         break\n",
    "#     cnt += 1\n",
    "    review = line[10:]\n",
    "    language = detect_language(review)\n",
    "    if language == None:\n",
    "        continue\n",
    "    if language != 'English':\n",
    "        review = translate(review)\n",
    "    preprocessed = line[:10] + preprocess(review)\n",
    "    new_test_txt.write(preprocessed)\n",
    "test_txt.close()\n",
    "new_test_txt.close()"
   ]
  },
  {
   "cell_type": "markdown",
   "metadata": {},
   "source": [
    "# FastText"
   ]
  },
  {
   "cell_type": "markdown",
   "metadata": {},
   "source": [
    "ngram-ების რაოდენობად ავირჩიე 2, არსებულ დეითაზე არჩეული მქონდა 3-იც მაგრამ არ მოიუცია იმდენად კარგი შედეგი, რომ დროდ და რესურსად ღირდეს. სინამდვილეში მისთვისაც განსხვავებული რეინჯების მოსინჯვა კრგი იქნებოდა"
   ]
  },
  {
   "cell_type": "code",
   "execution_count": 17,
   "metadata": {},
   "outputs": [],
   "source": [
    "model = fasttext.train_supervised(NEW_TRAIN_PATH, wordNgrams=2)"
   ]
  },
  {
   "cell_type": "code",
   "execution_count": 18,
   "metadata": {},
   "outputs": [
    {
     "name": "stdout",
     "output_type": "stream",
     "text": [
      "sample_size=4958\n",
      "precision=0.9\n",
      "recall=0.9\n"
     ]
    }
   ],
   "source": [
    "def print_results(sample_size, precision, recall):\n",
    "    precision   = round(precision, 2)\n",
    "    recall      = round(recall, 2)\n",
    "    print(f'{sample_size=}')\n",
    "    print(f'{precision=}')\n",
    "    print(f'{recall=}')\n",
    "\n",
    "print_results(*model.test(NEW_TEST_PATH))"
   ]
  },
  {
   "cell_type": "markdown",
   "metadata": {},
   "source": [
    "36000-5000-ისთვისაც კი, 0.9 პრესიჟენი კარგი შედეგია"
   ]
  },
  {
   "cell_type": "code",
   "execution_count": 46,
   "metadata": {},
   "outputs": [],
   "source": [
    "def get_prediction(model, text):\n",
    "    tp = model.predict(text)\n",
    "    if tp[0][0] == '__label__2':\n",
    "        return 'Positive'\n",
    "    else:\n",
    "        return 'Negative'"
   ]
  },
  {
   "cell_type": "markdown",
   "metadata": {},
   "source": [
    "# txt -> pd.DataFrame"
   ]
  },
  {
   "cell_type": "code",
   "execution_count": 3,
   "metadata": {},
   "outputs": [],
   "source": [
    "labels = []\n",
    "reviews = []\n",
    "\n",
    "test_labels = []\n",
    "test_reviews = []\n",
    "\n",
    "cnt1 = 0 \n",
    "p1 = 0 \n",
    "cnt2 = 0\n",
    "p2 = 0\n",
    "train_txt = open(NEW_TRAIN_PATH, 'r')\n",
    "for line in train_txt:\n",
    "    label = line[:10]\n",
    "    review = line[10:]\n",
    "    labels.append(label)\n",
    "    reviews.append(review)\n",
    "train_txt.close()\n",
    "\n",
    "test_txt = open(NEW_TEST_PATH, 'r')\n",
    "for line in test_txt:\n",
    "    label = line[:10]\n",
    "    review = line[10:]\n",
    "    test_labels.append(label)\n",
    "    test_reviews.append(review)\n",
    "test_txt.close()"
   ]
  },
  {
   "cell_type": "code",
   "execution_count": 6,
   "metadata": {
    "collapsed": true,
    "jupyter": {
     "outputs_hidden": true
    }
   },
   "outputs": [
    {
     "data": {
      "text/html": [
       "<div>\n",
       "<style scoped>\n",
       "    .dataframe tbody tr th:only-of-type {\n",
       "        vertical-align: middle;\n",
       "    }\n",
       "\n",
       "    .dataframe tbody tr th {\n",
       "        vertical-align: top;\n",
       "    }\n",
       "\n",
       "    .dataframe thead th {\n",
       "        text-align: right;\n",
       "    }\n",
       "</style>\n",
       "<table border=\"1\" class=\"dataframe\">\n",
       "  <thead>\n",
       "    <tr style=\"text-align: right;\">\n",
       "      <th></th>\n",
       "      <th>labels</th>\n",
       "      <th>reviews</th>\n",
       "    </tr>\n",
       "  </thead>\n",
       "  <tbody>\n",
       "    <tr>\n",
       "      <th>0</th>\n",
       "      <td>__label__2</td>\n",
       "      <td>tuning even for the nongamer this sound track...</td>\n",
       "    </tr>\n",
       "    <tr>\n",
       "      <th>1</th>\n",
       "      <td>__label__2</td>\n",
       "      <td>the best soundtrack ever to anything im readi...</td>\n",
       "    </tr>\n",
       "    <tr>\n",
       "      <th>2</th>\n",
       "      <td>__label__2</td>\n",
       "      <td>amazing this soundtrack is my favorite music ...</td>\n",
       "    </tr>\n",
       "    <tr>\n",
       "      <th>3</th>\n",
       "      <td>__label__2</td>\n",
       "      <td>excellent soundtrack i truly like this soundt...</td>\n",
       "    </tr>\n",
       "    <tr>\n",
       "      <th>4</th>\n",
       "      <td>__label__2</td>\n",
       "      <td>remember pull your jaw off the floor after he...</td>\n",
       "    </tr>\n",
       "  </tbody>\n",
       "</table>\n",
       "</div>"
      ],
      "text/plain": [
       "       labels                                            reviews\n",
       "0  __label__2   tuning even for the nongamer this sound track...\n",
       "1  __label__2   the best soundtrack ever to anything im readi...\n",
       "2  __label__2   amazing this soundtrack is my favorite music ...\n",
       "3  __label__2   excellent soundtrack i truly like this soundt...\n",
       "4  __label__2   remember pull your jaw off the floor after he..."
      ]
     },
     "execution_count": 6,
     "metadata": {},
     "output_type": "execute_result"
    }
   ],
   "source": [
    "df = pd.DataFrame({'labels' : labels, 'reviews': reviews})\n",
    "df.head(5)"
   ]
  },
  {
   "cell_type": "code",
   "execution_count": 7,
   "metadata": {},
   "outputs": [],
   "source": [
    "def fun(x):\n",
    "    if x == '__label__2':\n",
    "        return 1\n",
    "    else:\n",
    "        return 0"
   ]
  },
  {
   "cell_type": "code",
   "execution_count": 8,
   "metadata": {},
   "outputs": [],
   "source": [
    "df.labels = df.labels.apply(fun)"
   ]
  },
  {
   "cell_type": "markdown",
   "metadata": {},
   "source": [
    "# LSTM"
   ]
  },
  {
   "cell_type": "code",
   "execution_count": 22,
   "metadata": {},
   "outputs": [],
   "source": [
    "from keras.preprocessing.text import Tokenizer\n",
    "from keras.preprocessing.sequence import pad_sequences\n",
    "from keras.models import Sequential\n",
    "from keras.layers import Embedding, Flatten, Dense, Dropout, LSTM, Bidirectional"
   ]
  },
  {
   "cell_type": "code",
   "execution_count": 23,
   "metadata": {},
   "outputs": [],
   "source": [
    "max_f = 250\n",
    "tokenizer = Tokenizer(num_words=max_f, split=' ')\n",
    "tokenizer.fit_on_texts(df['reviews'].values)\n",
    "x = tokenizer.texts_to_sequences(df['reviews'].values)\n",
    "X = pad_sequences(x)"
   ]
  },
  {
   "cell_type": "code",
   "execution_count": 26,
   "metadata": {},
   "outputs": [
    {
     "name": "stdout",
     "output_type": "stream",
     "text": [
      "Model: \"sequential_4\"\n",
      "_________________________________________________________________\n",
      "Layer (type)                 Output Shape              Param #   \n",
      "=================================================================\n",
      "embedding_4 (Embedding)      (None, 187, 128)          256000    \n",
      "_________________________________________________________________\n",
      "dropout_3 (Dropout)          (None, 187, 128)          0         \n",
      "_________________________________________________________________\n",
      "bidirectional_2 (Bidirection (None, 256)               263168    \n",
      "_________________________________________________________________\n",
      "dense_3 (Dense)              (None, 2)                 514       \n",
      "=================================================================\n",
      "Total params: 519,682\n",
      "Trainable params: 519,682\n",
      "Non-trainable params: 0\n",
      "_________________________________________________________________\n",
      "None\n"
     ]
    }
   ],
   "source": [
    "embed_dim = 16\n",
    "lstm_out = 16\n",
    "\n",
    "model = Sequential()\n",
    "model.add(Embedding(max_f, embed_dim, input_length=X.shape[1]))\n",
    "model.add(Dropout(0.3))\n",
    "model.add(Bidirectional(LSTM(lstm_out, dropout=0.2, recurrent_dropout=0.2)))\n",
    "model.add(Dense(1, activation='sigmoid'))\n",
    "model.compile(loss='binary_crossentropy', optimizer='adam', metrics=['accuracy'])\n",
    "print(model.summary())"
   ]
  },
  {
   "cell_type": "code",
   "execution_count": 27,
   "metadata": {},
   "outputs": [],
   "source": [
    "from sklearn.preprocessing import LabelEncoder\n",
    "from sklearn.model_selection import train_test_split\n",
    "from tensorflow.keras.utils import to_categorical\n",
    "test_df = pd.DataFrame({'labels': test_labels, 'reviews': test_reviews})\n",
    "Le = LabelEncoder()\n",
    "y = Le.fit_transform(df['labels'])\n",
    "X_train = X\n",
    "y_train = y\n",
    "\n",
    "max_f = 200\n",
    "tokenizer = Tokenizer(num_words=max_f, split=' ')\n",
    "tokenizer.fit_on_texts(test_df['reviews'].values)\n",
    "xx = tokenizer.texts_to_sequences(test_df['reviews'].values)\n",
    "X_test = pad_sequences(xx)\n",
    "y_test = Le.fit_transform(test_df['labels'])"
   ]
  },
  {
   "cell_type": "code",
   "execution_count": 28,
   "metadata": {},
   "outputs": [
    {
     "name": "stdout",
     "output_type": "stream",
     "text": [
      "Epoch 1/5\n",
      "71/71 [==============================] - ETA: 0s - loss: 0.5912 - accuracy: 0.6958WARNING:tensorflow:Model was constructed with shape (None, 187) for input Tensor(\"embedding_4_input:0\", shape=(None, 187), dtype=float32), but it was called on an input with incompatible shape (None, 204).\n",
      "71/71 [==============================] - 305s 4s/step - loss: 0.5912 - accuracy: 0.6958 - val_loss: 0.7573 - val_accuracy: 0.5701\n",
      "Epoch 2/5\n",
      "71/71 [==============================] - 282s 4s/step - loss: 0.3367 - accuracy: 0.8567 - val_loss: 0.9417 - val_accuracy: 0.5313\n",
      "Epoch 3/5\n",
      "71/71 [==============================] - 282s 4s/step - loss: 0.2713 - accuracy: 0.8910 - val_loss: 1.1568 - val_accuracy: 0.5301\n",
      "Epoch 4/5\n",
      "71/71 [==============================] - 282s 4s/step - loss: 0.2515 - accuracy: 0.8991 - val_loss: 1.0491 - val_accuracy: 0.5337\n",
      "Epoch 5/5\n",
      "71/71 [==============================] - 326s 5s/step - loss: 0.2400 - accuracy: 0.9032 - val_loss: 0.9833 - val_accuracy: 0.5311\n"
     ]
    }
   ],
   "source": [
    "history = model.fit(X_train, y_train,validation_data=(X_test, y_test), epochs=5, batch_size=512)"
   ]
  },
  {
   "cell_type": "code",
   "execution_count": 29,
   "metadata": {
    "collapsed": true,
    "jupyter": {
     "outputs_hidden": true
    }
   },
   "outputs": [
    {
     "name": "stdout",
     "output_type": "stream",
     "text": [
      "dict_keys(['loss', 'accuracy', 'val_loss', 'val_accuracy'])\n"
     ]
    },
    {
     "data": {
      "image/png": "[encoded data removed]",
      "text/plain": [
       "<Figure size 432x288 with 1 Axes>"
      ]
     },
     "metadata": {
      "needs_background": "light"
     },
     "output_type": "display_data"
    },
    {
     "data": {
      "image/png": "[encoded data removed]",
      "text/plain": [
       "<Figure size 432x288 with 1 Axes>"
      ]
     },
     "metadata": {
      "needs_background": "light"
     },
     "output_type": "display_data"
    }
   ],
   "source": [
    "import matplotlib.pyplot as plt\n",
    "print(history.history.keys())\n",
    "# summarize history for accuracy\n",
    "plt.plot(history.history['accuracy'])\n",
    "plt.plot(history.history['val_accuracy'])\n",
    "plt.title('model accuracy')\n",
    "plt.ylabel('accuracy')\n",
    "plt.xlabel('epoch')\n",
    "plt.legend(['train', 'test'], loc='upper left')\n",
    "plt.show()\n",
    "# summarize history for loss\n",
    "plt.plot(history.history['loss'])\n",
    "plt.plot(history.history['val_loss'])\n",
    "plt.title('model loss')\n",
    "plt.ylabel('loss')\n",
    "plt.xlabel('epoch')\n",
    "plt.legend(['train', 'test'], loc='upper left')\n",
    "plt.show()"
   ]
  },
  {
   "cell_type": "markdown",
   "metadata": {},
   "source": [
    "ამ შემთხვევაში, ავაგე ლსტმ მოდელი რომელსაც დატა-დ მივაწოდე კერასის text_to_sequences ემბედინგური მოდელი, რომელიც მარტივად ჩანაცვლებადია ნებისმიერი სახის იმბედინგებით, როგორებიცაა GloVe, ან ნებისმიერი bert like მოდელის იმბედინგი. სხვა სიტყვებით რომ ვთქვათ, გვაქვს კლასიფაიერი, რომელსაც შეგვიძლია გამოვუცვალოთ ინფუთი, იმისდა მიხედვით როგორი იმბედინგი გვინდა.ვინაიდან ლსტმ-ს ასე თუ ისე უჭირს გრძელ სექვენსებზე ინფორმაციის შენახვა და დაჭერა, მოდელმაც ვერ დადო კარგი შედეგი. ცხადია, ამას ბევრად გამოასწორებდა ტრანსფორმერული კლასიფაიერის დაწერა. \n",
    "გამოთვლითი რესურსის შეზღუდვიდან გამომდინარე შემზღულდველი ფაქტორი იყო მონაცემების რაოდენობობა. უფრო მეტი მონაცემის შემთხვევაში, უფრო კარგად შეძლებდა მოდელი სწავლასა დაგანზოგადებას."
   ]
  },
  {
   "cell_type": "markdown",
   "metadata": {},
   "source": [
    "სამწუხაროდ embedding-ების ჩანაცვლება ვერ მოვახერხე რადგან clean data-ზე შემთხვევით overwrite გავაკეთე და მის შესადგენად რამდენიმე საათი დამჭირდა. ვარჩიე არ გამერისკა და გამომეგზავნა კოდი, რომელიც ვიცი, რომ მუშაობს. (glove-თი ჩანაცვლებული მქონდა, მინდოდა ბერტის გაწრთვნაც)"
   ]
  },
  {
   "cell_type": "markdown",
   "metadata": {},
   "source": [
    "პრეპროცესინგი მთლიან დეითაზე საკმაოდ დიდ დროს მოითხოვს. ამიტომ 36000 იანზე მომიწია მოდელების გაწვრთნა. ამის გამო ვიზუალიზაციის და ანალიზის ასპექტი საკმაოდ გართულდა, რადგან მთლიან დეითას ვერ ვწერდი რამში. შესაბამისად ვერ ჩავატარე ექსპერიმენტებიც და გრაფიკული წარმოჩენა, რაც როგორც წესი, კარგი შედეგების მოულოდნელი საწინდარია ხოლმე.\n",
    "\n",
    "კარგი ვიზუალიზაცია იქნებოდა რივიუების ტოკენების სიგრძის ჰისტოგრამა, რომელიც დამეხმარებოდა ლსტმ-ის სექვენსის სიგრძის ასარჩევად და აუთლაიერების გამოსარიცხათ."
   ]
  }
 ],
 "metadata": {
  "kernelspec": {
   "display_name": "Python 3",
   "language": "python",
   "name": "python3"
  },
  "language_info": {
   "codemirror_mode": {
    "name": "ipython",
    "version": 3
   },
   "file_extension": ".py",
   "mimetype": "text/x-python",
   "name": "python",
   "nbconvert_exporter": "python",
   "pygments_lexer": "ipython3",
   "version": "3.8.3"
  }
 },
 "nbformat": 4,
 "nbformat_minor": 4
}
