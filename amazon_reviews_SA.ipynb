{
 "cells": [
  {
   "cell_type": "code",
   "execution_count": 1,
   "metadata": {},
   "outputs": [],
   "source": [
    "import pandas\n",
    "import numpy\n",
    "import gcld3\n",
    "from pycountry import languages\n",
    "import transformers\n",
    "from transformers import BertTokenizer, TFBertForSequenceClassification\n",
    "from transformers import InputExample, InputFeatures\n",
    "import translators as ts"
   ]
  },
  {
   "cell_type": "code",
   "execution_count": 37,
   "metadata": {},
   "outputs": [],
   "source": [
    "# returns text's language\n",
    "# speed or FastText would be better\n",
    "\n",
    "def detect_language(text):\n",
    "    detector = gcld3.NNetLanguageIdentifier(min_num_bytes=0, \n",
    "                                        max_num_bytes=100000)\n",
    "    result = detector.FindLanguage(text=text)\n",
    "    if languages.get(alpha_2=result.language) == None:\n",
    "        return None\n",
    "    return languages.get(alpha_2=result.language).name"
   ]
  },
  {
   "cell_type": "code",
   "execution_count": 38,
   "metadata": {},
   "outputs": [],
   "source": [
    "## translates to English\n",
    "\n",
    "def translate(text):\n",
    "    return ts.google('ტექსტი, რომელიც უნდა ითარგმნოს', if_use_cn_host=True)"
   ]
  },
  {
   "cell_type": "code",
   "execution_count": null,
   "metadata": {},
   "outputs": [],
   "source": [
    "TRAIN_PATH = '/Users/test/Downloads/archive/train.ft.txt'\n",
    "TEST_PATH = '/Users/test/Downloads/archive/test.ft.txt'\n",
    "xa = 0\n",
    "cnt = 0\n",
    "f = open(TRAIN_PATH, \"r\")\n",
    "_all = 0\n",
    "nones = 0\n",
    "for x in f:\n",
    "    if x == None:\n",
    "        nones+=1\n",
    "        continue\n",
    "    elif detect_language(x[10:]) != 'English':\n",
    "        cnt+=1\n",
    "    _all += 1\n",
    "        \n",
    "print('Non English:',cnt)\n",
    "print('Reviews Number:',_all)\n",
    "print('Nones:',nones)"
   ]
  },
  {
   "cell_type": "code",
   "execution_count": null,
   "metadata": {},
   "outputs": [],
   "source": []
  }
 ],
 "metadata": {
  "kernelspec": {
   "display_name": "Python 3",
   "language": "python",
   "name": "python3"
  },
  "language_info": {
   "codemirror_mode": {
    "name": "ipython",
    "version": 3
   },
   "file_extension": ".py",
   "mimetype": "text/x-python",
   "name": "python",
   "nbconvert_exporter": "python",
   "pygments_lexer": "ipython3",
   "version": "3.8.3"
  }
 },
 "nbformat": 4,
 "nbformat_minor": 4
}
