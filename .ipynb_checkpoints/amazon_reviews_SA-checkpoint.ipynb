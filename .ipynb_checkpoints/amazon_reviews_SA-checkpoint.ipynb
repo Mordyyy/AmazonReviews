{
 "cells": [
  {
   "cell_type": "code",
   "execution_count": 148,
   "metadata": {},
   "outputs": [],
   "source": [
    "import pandas\n",
    "import numpy\n",
    "import gcld3\n",
    "from pycountry import languages"
   ]
  },
  {
   "cell_type": "code",
   "execution_count": 157,
   "metadata": {},
   "outputs": [],
   "source": [
    "# returns touple, language_reliability\n",
    "# speed or FastText would be better\n",
    "\n",
    "def detect_language(text):\n",
    "    detector = gcld3.NNetLanguageIdentifier(min_num_bytes=0, \n",
    "                                        max_num_bytes=1000)\n",
    "    result = detector.FindLanguage(text=text)\n",
    "    return languages.get(alpha_2=result.language).name, result.is_reliable"
   ]
  },
  {
   "cell_type": "code",
   "execution_count": null,
   "metadata": {},
   "outputs": [],
   "source": []
  }
 ],
 "metadata": {
  "kernelspec": {
   "display_name": "Python 3",
   "language": "python",
   "name": "python3"
  },
  "language_info": {
   "codemirror_mode": {
    "name": "ipython",
    "version": 3
   },
   "file_extension": ".py",
   "mimetype": "text/x-python",
   "name": "python",
   "nbconvert_exporter": "python",
   "pygments_lexer": "ipython3",
   "version": "3.8.3"
  }
 },
 "nbformat": 4,
 "nbformat_minor": 4
}
